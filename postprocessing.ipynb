{
 "cells": [
  {
   "cell_type": "code",
   "id": "81f4a28645075b00",
   "metadata": {
    "ExecuteTime": {
     "end_time": "2025-07-01T17:33:06.005837Z",
     "start_time": "2025-07-01T17:33:05.999880Z"
    }
   },
   "source": [
    "import numpy as np\n",
    "import tifffile\n",
    "import imageio.v3 as iio\n",
    "import matplotlib.pyplot as plt\n",
    "from shapely import wkt\n",
    "from rasterio.transform import from_bounds\n",
    "import rasterio\n",
    "from scipy.ndimage import uniform_filter\n",
    "from skimage.morphology import (\n",
    "    binary_opening, binary_closing, binary_dilation,\n",
    "    remove_small_objects, remove_small_holes, disk\n",
    ")"
   ],
   "outputs": [],
   "execution_count": 30
  },
  {
   "metadata": {
    "ExecuteTime": {
     "end_time": "2025-07-01T17:33:06.033873Z",
     "start_time": "2025-07-01T17:33:06.030128Z"
    }
   },
   "cell_type": "code",
   "source": [
    "# --- Parameters ---\n",
    "image_path = \"/Users/ereilly/Documents/code/OilClassification/Output/ContrastRatio/S1A_IW_GRDH_1SDV_20240725T015015_20240725T015044_054911_06B032_3EFF_pre/S1A_IW_GRDH_1SDV_20240725T015015_20240725T015044_054911_06B032_3EFF_pre_JPL0.4_VVDR_cumulative.tif\"\n",
    "output_path = \"oil_slick_mask_final_0725_1.tif\"\n",
    "wkt_aoi = \"POLYGON ((-117.171936 32.379961, -117.055206 32.379961, -117.055206 32.638218, -117.171936 32.638218, -117.171936 32.379961))\"\n",
    "threshold_value = 0.11"
   ],
   "id": "ff8ffc2378fb6d6e",
   "outputs": [],
   "execution_count": 31
  },
  {
   "metadata": {
    "ExecuteTime": {
     "end_time": "2025-07-01T17:33:06.092978Z",
     "start_time": "2025-07-01T17:33:06.060858Z"
    }
   },
   "cell_type": "code",
   "source": [
    "# --- Step 1: Load image ---\n",
    "image = iio.imread(image_path).astype(np.float32)\n",
    "\n",
    "# --- Step 2: NaN-safe low-pass filter ---\n",
    "valid_mask = (~np.isnan(image)).astype(np.float32)\n",
    "image_filled = np.nan_to_num(image, nan=0.0)\n",
    "numerator = uniform_filter(image_filled, size=3, mode='nearest')\n",
    "denominator = uniform_filter(valid_mask, size=3, mode='nearest')\n",
    "smoothed = np.full_like(image, np.nan, dtype=np.float32)\n",
    "nonzero_mask = denominator > 0\n",
    "smoothed[nonzero_mask] = numerator[nonzero_mask] / denominator[nonzero_mask]"
   ],
   "id": "99dc7b8ee2fd7c8a",
   "outputs": [],
   "execution_count": 32
  },
  {
   "metadata": {
    "ExecuteTime": {
     "end_time": "2025-07-01T17:33:06.203966Z",
     "start_time": "2025-07-01T17:33:06.108867Z"
    }
   },
   "cell_type": "code",
   "source": [
    "# --- Step 3: Thresholding and segmentation ---\n",
    "signal_mask = (smoothed > threshold_value) & ~np.isnan(smoothed)\n",
    "clean_mask = binary_opening(signal_mask, disk(2))\n",
    "clean_mask = binary_closing(clean_mask, disk(3))\n",
    "clean_mask = remove_small_holes(clean_mask, area_threshold=300)\n",
    "clean_mask = remove_small_objects(clean_mask, min_size=100)\n",
    "expanded_mask = binary_dilation(clean_mask, disk(2))  # final result"
   ],
   "id": "1cb5e7ca6425171c",
   "outputs": [],
   "execution_count": 33
  },
  {
   "metadata": {
    "ExecuteTime": {
     "end_time": "2025-07-01T17:33:06.221090Z",
     "start_time": "2025-07-01T17:33:06.218082Z"
    }
   },
   "cell_type": "code",
   "source": [
    "# --- Step 4: Create raster transform from WKT AOI ---\n",
    "geom = wkt.loads(wkt_aoi)\n",
    "min_lon, min_lat, max_lon, max_lat = geom.bounds\n",
    "height, width = expanded_mask.shape\n",
    "transform = from_bounds(min_lon, min_lat, max_lon, max_lat, width, height)"
   ],
   "id": "416c9e95fc34ebbd",
   "outputs": [],
   "execution_count": 34
  },
  {
   "metadata": {
    "ExecuteTime": {
     "end_time": "2025-07-01T17:33:06.247375Z",
     "start_time": "2025-07-01T17:33:06.241532Z"
    }
   },
   "cell_type": "code",
   "source": [
    "# --- Step 5: Save binary mask as GeoTIFF ---\n",
    "profile = {\n",
    "    \"driver\": \"GTiff\",\n",
    "    \"dtype\": \"uint8\",\n",
    "    \"count\": 1,\n",
    "    \"height\": height,\n",
    "    \"width\": width,\n",
    "    \"crs\": \"EPSG:4326\",\n",
    "    \"transform\": transform,\n",
    "    \"nodata\": 0\n",
    "}\n",
    "\n",
    "with rasterio.open(output_path, \"w\", **profile) as dst:\n",
    "    dst.write(expanded_mask.astype(\"uint8\"), 1)\n",
    "\n",
    "print(f\"Saved: {output_path}\")\n"
   ],
   "id": "initial_id",
   "outputs": [
    {
     "name": "stdout",
     "output_type": "stream",
     "text": [
      "Saved: oil_slick_mask_final_0725_1.tif\n"
     ]
    }
   ],
   "execution_count": 35
  },
  {
   "metadata": {
    "ExecuteTime": {
     "end_time": "2025-07-01T17:35:20.997442Z",
     "start_time": "2025-07-01T17:35:20.738218Z"
    }
   },
   "cell_type": "code",
   "source": [
    "from matplotlib.colors import ListedColormap\n",
    "\n",
    "# Orange colormap: 0 = black, 1 = orange\n",
    "orange_on_black = ListedColormap([\n",
    "    (0.0, 0.0, 0.0, 1.0),  # black background\n",
    "    (1.0, 0.5, 0.0, 1.0)   # orange foreground\n",
    "])\n",
    "\n",
    "# Build binary masks for display\n",
    "input_mask = ((image != 0) & ~np.isnan(image)).astype(np.uint8)\n",
    "mask_display = expanded_mask.astype(np.uint8)\n",
    "\n",
    "# Create figure with white background\n",
    "fig, axes = plt.subplots(1, 2, figsize=(10, 5), constrained_layout=True)\n",
    "fig.patch.set_facecolor('white')  # white figure canvas\n",
    "\n",
    "# Show original input (orange if > 0, black otherwise)\n",
    "axes[0].imshow(input_mask, cmap=orange_on_black, interpolation='none')\n",
    "axes[0].set_title(\"Damping Ratio w/ Threshold\", fontsize=11)\n",
    "axes[0].axis('off')\n",
    "\n",
    "# Show final mask (orange if in mask, black otherwise)\n",
    "axes[1].imshow(mask_display, cmap=orange_on_black, interpolation='none')\n",
    "axes[1].set_title(\"Final Mask\", fontsize=11)\n",
    "axes[1].axis('off')\n",
    "\n",
    "plt.show()"
   ],
   "id": "6d7ae994157b13a6",
   "outputs": [
    {
     "data": {
      "text/plain": [
       "<Figure size 1000x500 with 2 Axes>"
      ],
      "image/png": "[encoded data removed]"
     },
     "metadata": {},
     "output_type": "display_data"
    }
   ],
   "execution_count": 40
  }
 ],
 "metadata": {
  "kernelspec": {
   "display_name": "Python 3",
   "language": "python",
   "name": "python3"
  },
  "language_info": {
   "codemirror_mode": {
    "name": "ipython",
    "version": 2
   },
   "file_extension": ".py",
   "mimetype": "text/x-python",
   "name": "python",
   "nbconvert_exporter": "python",
   "pygments_lexer": "ipython2",
   "version": "2.7.6"
  }
 },
 "nbformat": 4,
 "nbformat_minor": 5
}
