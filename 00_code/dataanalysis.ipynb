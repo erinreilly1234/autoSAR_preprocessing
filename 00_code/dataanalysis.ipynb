{
 "cells": [
  {
   "cell_type": "markdown",
   "id": "e0b8022ab77bae3",
   "metadata": {},
   "source": [
    "**Run through visualizations and output datetime of collects to a csv**"
   ]
  },
  {
   "cell_type": "code",
   "execution_count": null,
   "id": "e597d125",
   "metadata": {},
   "outputs": [],
   "source": [
    "folder = Path('/Volumes/External/TJ_SAR/02_preprocessed/background_gooddays')"
   ]
  },
  {
   "cell_type": "code",
   "execution_count": null,
   "id": "5ba28bac6e481671",
   "metadata": {
    "ExecuteTime": {
     "end_time": "2025-07-17T22:13:46.155511Z",
     "start_time": "2025-07-17T22:13:46.124154Z"
    }
   },
   "outputs": [
    {
     "name": "stdout",
     "output_type": "stream",
     "text": [
      "Wrote sentinel1_times.csv with 122 entries.\n"
     ]
    }
   ],
   "source": [
    "from pathlib import Path\n",
    "import csv\n",
    "from datetime import datetime, timezone\n",
    "from zoneinfo import ZoneInfo\n",
    "\n",
    "\n",
    "\n",
    "# Timestamp formats\n",
    "INPUT_FMT  = \"%Y%m%dT%H%M%S\"      # format in filename\n",
    "OUTPUT_FMT = \"%Y-%m-%d %H:%M:%S\"  # human-readable output\n",
    "\n",
    "# Timezones\n",
    "UTC     = timezone.utc\n",
    "PACIFIC = ZoneInfo(\"America/Los_Angeles\")\n",
    "\n",
    "# Prepare CSV output\n",
    "csv_path = folder / \"sentinel1_times.csv\"\n",
    "with open(csv_path, \"w\", newline=\"\") as f:\n",
    "    writer = csv.writer(f)\n",
    "    # Write header with original filename first\n",
    "    writer.writerow([\"original_filename\", \"start_utc\", \"start_local\"])\n",
    "\n",
    "    for p in sorted(folder.glob(\"*.png\")):\n",
    "        parts = p.stem.split(\"_\")\n",
    "        if len(parts) < 6:\n",
    "            # skip unexpected filenames\n",
    "            continue\n",
    "\n",
    "        raw = parts[4]  # UTC start timestamp, e.g. \"20250421T014857\"\n",
    "        try:\n",
    "            dt_utc = datetime.strptime(raw, INPUT_FMT).replace(tzinfo=UTC)\n",
    "        except ValueError:\n",
    "            # skip malformed timestamps\n",
    "            continue\n",
    "\n",
    "        # Convert to Pacific time\n",
    "        dt_local = dt_utc.astimezone(PACIFIC)\n",
    "\n",
    "        # Write row\n",
    "        writer.writerow([\n",
    "            p.name,\n",
    "            dt_utc.strftime(OUTPUT_FMT),\n",
    "            dt_local.strftime(OUTPUT_FMT)\n",
    "        ])\n",
    "\n",
    "print(f\"Wrote {csv_path.name} with {sum(1 for _ in folder.glob('*.png'))} entries.\")\n"
   ]
  },
  {
   "cell_type": "markdown",
   "id": "e585c928332d5e22",
   "metadata": {},
   "source": [
    "convert files from _overlay.png csv to a folder of their original raw dataset"
   ]
  },
  {
   "cell_type": "code",
   "execution_count": 4,
   "id": "b0554872f0d4aa47",
   "metadata": {
    "ExecuteTime": {
     "end_time": "2025-07-17T22:30:14.842796Z",
     "start_time": "2025-07-17T22:22:56.815558Z"
    }
   },
   "outputs": [
    {
     "name": "stdout",
     "output_type": "stream",
     "text": [
      "✔️  Copied \"S1A_IW_GRDH_1SDV_20221203T015015_20221203T015044_046161_0586BC_72DC.zip\" to \"/Volumes/External/TJ_SAR/01_data/03_2022_2025_gooddays\"\n",
      "✔️  Copied \"S1A_IW_GRDH_1SDV_20221215T015014_20221215T015043_046336_058CB1_E040.zip\" to \"/Volumes/External/TJ_SAR/01_data/03_2022_2025_gooddays\"\n",
      "✔️  Copied \"S1A_IW_GRDH_1SDV_20221215T135316_20221215T135341_046343_058CF7_BB7D.zip\" to \"/Volumes/External/TJ_SAR/01_data/03_2022_2025_gooddays\"\n",
      "✔️  Copied \"S1A_IW_GRDH_1SDV_20230103T134452_20230103T134517_046620_059664_9029.zip\" to \"/Volumes/External/TJ_SAR/01_data/03_2022_2025_gooddays\"\n",
      "✔️  Copied \"S1A_IW_GRDH_1SDV_20230108T135315_20230108T135340_046693_0598D3_8F17.zip\" to \"/Volumes/External/TJ_SAR/01_data/03_2022_2025_gooddays\"\n",
      "✔️  Copied \"S1A_IW_GRDH_1SDV_20230917T015020_20230917T015049_050361_06103C_F092.zip\" to \"/Volumes/External/TJ_SAR/01_data/03_2022_2025_gooddays\"\n",
      "✔️  Copied \"S1A_IW_GRDH_1SDV_20230924T134500_20230924T134525_050470_061400_0602.zip\" to \"/Volumes/External/TJ_SAR/01_data/03_2022_2025_gooddays\"\n",
      "✔️  Copied \"S1A_IW_GRDH_1SDV_20230929T015020_20230929T015050_050536_061636_4053.zip\" to \"/Volumes/External/TJ_SAR/01_data/03_2022_2025_gooddays\"\n",
      "✔️  Copied \"S1A_IW_GRDH_1SDV_20231023T135323_20231023T135348_050893_062276_4D6B.zip\" to \"/Volumes/External/TJ_SAR/01_data/03_2022_2025_gooddays\"\n",
      "✔️  Copied \"S1A_IW_GRDH_1SDV_20231116T015020_20231116T015049_051236_062E3B_CFEA.zip\" to \"/Volumes/External/TJ_SAR/01_data/03_2022_2025_gooddays\"\n",
      "✔️  Copied \"S1A_IW_GRDH_1SDV_20231222T015018_20231222T015047_051761_06406D_780F.zip\" to \"/Volumes/External/TJ_SAR/01_data/03_2022_2025_gooddays\"\n",
      "✔️  Copied \"S1A_IW_GRDH_1SDV_20231222T135320_20231222T135345_051768_0640B7_963B.zip\" to \"/Volumes/External/TJ_SAR/01_data/03_2022_2025_gooddays\"\n",
      "✔️  Copied \"S1A_IW_GRDH_1SDV_20240103T015018_20240103T015047_051936_064669_4FCF.zip\" to \"/Volumes/External/TJ_SAR/01_data/03_2022_2025_gooddays\"\n",
      "✔️  Copied \"S1A_IW_GRDH_1SDV_20240103T135320_20240103T135345_051943_0646B5_90A4.zip\" to \"/Volumes/External/TJ_SAR/01_data/03_2022_2025_gooddays\"\n",
      "✔️  Copied \"S1A_IW_GRDH_1SDV_20240110T134457_20240110T134522_052045_064A30_E134.zip\" to \"/Volumes/External/TJ_SAR/01_data/03_2022_2025_gooddays\"\n",
      "✔️  Copied \"S1A_IW_GRDH_1SDV_20240127T015017_20240127T015046_052286_065243_A94A.zip\" to \"/Volumes/External/TJ_SAR/01_data/03_2022_2025_gooddays\"\n",
      "✔️  Copied \"S1A_IW_GRDH_1SDV_20240127T135319_20240127T135344_052293_06528D_FBF7.zip\" to \"/Volumes/External/TJ_SAR/01_data/03_2022_2025_gooddays\"\n",
      "✔️  Copied \"S1A_IW_GRDH_1SDV_20240203T134456_20240203T134521_052395_0655FE_3EE8.zip\" to \"/Volumes/External/TJ_SAR/01_data/03_2022_2025_gooddays\"\n",
      "✔️  Copied \"S1A_IW_GRDH_1SDV_20240208T015016_20240208T015045_052461_06582C_D693.zip\" to \"/Volumes/External/TJ_SAR/01_data/03_2022_2025_gooddays\"\n",
      "✔️  Copied \"S1A_IW_GRDH_1SDV_20240208T135318_20240208T135343_052468_065876_088C.zip\" to \"/Volumes/External/TJ_SAR/01_data/03_2022_2025_gooddays\"\n",
      "✔️  Copied \"S1A_IW_GRDH_1SDV_20240215T134456_20240215T134521_052570_065BE6_1DE0.zip\" to \"/Volumes/External/TJ_SAR/01_data/03_2022_2025_gooddays\"\n",
      "✔️  Copied \"S1A_IW_GRDH_1SDV_20240220T015016_20240220T015045_052636_065E1F_6B77.zip\" to \"/Volumes/External/TJ_SAR/01_data/03_2022_2025_gooddays\"\n",
      "✔️  Copied \"S1A_IW_GRDH_1SDV_20240227T134456_20240227T134521_052745_0661DD_B8E8.zip\" to \"/Volumes/External/TJ_SAR/01_data/03_2022_2025_gooddays\"\n",
      "✔️  Copied \"S1A_IW_GRDH_1SDV_20240303T015016_20240303T015045_052811_066417_AE29.zip\" to \"/Volumes/External/TJ_SAR/01_data/03_2022_2025_gooddays\"\n",
      "✔️  Copied \"S1A_IW_GRDH_1SDV_20240303T135319_20240303T135344_052818_066462_D424.zip\" to \"/Volumes/External/TJ_SAR/01_data/03_2022_2025_gooddays\"\n",
      "✔️  Copied \"S1A_IW_GRDH_1SDV_20240315T135319_20240315T135344_052993_066A5F_CBC9.zip\" to \"/Volumes/External/TJ_SAR/01_data/03_2022_2025_gooddays\"\n",
      "✔️  Copied \"S1A_IW_GRDH_1SDV_20240327T015016_20240327T015045_053161_0670C6_52F0.zip\" to \"/Volumes/External/TJ_SAR/01_data/03_2022_2025_gooddays\"\n",
      "✔️  Copied \"S1A_IW_GRDH_1SDV_20240327T135319_20240327T135344_053168_06710F_4BA5.zip\" to \"/Volumes/External/TJ_SAR/01_data/03_2022_2025_gooddays\"\n",
      "✔️  Copied \"S1A_IW_GRDH_1SDV_20240403T134457_20240403T134522_053270_0674E8_A9EF.zip\" to \"/Volumes/External/TJ_SAR/01_data/03_2022_2025_gooddays\"\n",
      "✔️  Copied \"S1A_IW_GRDH_1SDV_20240408T015017_20240408T015046_053336_06778C_DC45.zip\" to \"/Volumes/External/TJ_SAR/01_data/03_2022_2025_gooddays\"\n",
      "✔️  Copied \"S1A_IW_GRDH_1SDV_20240408T135319_20240408T135344_053343_0677DE_627F.zip\" to \"/Volumes/External/TJ_SAR/01_data/03_2022_2025_gooddays\"\n",
      "✔️  Copied \"S1A_IW_GRDH_1SDV_20240509T134457_20240509T134522_053795_068985_CAAC.zip\" to \"/Volumes/External/TJ_SAR/01_data/03_2022_2025_gooddays\"\n",
      "✔️  Copied \"S1A_IW_GRDH_1SDV_20240514T015017_20240514T015046_053861_068BD1_3DC1.zip\" to \"/Volumes/External/TJ_SAR/01_data/03_2022_2025_gooddays\"\n",
      "⚠️  No .zip found for scene \"S1A_IW_GRDH_1SDV_20240614T134456_20240614T134521_054320_069BA3_E195\"\n",
      "⚠️  No .zip found for scene \"S1A_IW_GRDH_1SDV_20240619T015017_20240619T015046_054386_069DEF_1E63\"\n",
      "⚠️  No .zip found for scene \"S1A_IW_GRDH_1SDV_20240701T015016_20240701T015045_054561_06A407_78C1\"\n",
      "⚠️  No .zip found for scene \"S1A_IW_GRDH_1SDV_20240720T134455_20240720T134520_054845_06ADDF_F02B\"\n",
      "⚠️  No .zip found for scene \"S1A_IW_GRDH_1SDV_20240725T015015_20240725T015044_054911_06B032_3EFF\"\n",
      "⚠️  No .zip found for scene \"S1A_IW_GRDH_1SDV_20240801T134455_20240801T134520_055020_06B3F8_8F59\"\n",
      "⚠️  No .zip found for scene \"S1A_IW_GRDH_1SDV_20240825T134455_20240825T134520_055370_06C0B3_2887\"\n",
      "⚠️  No .zip found for scene \"S1A_IW_GRDH_1SDV_20240830T015015_20240830T015045_055436_06C312_73FC\"\n",
      "⚠️  No .zip found for scene \"S1A_IW_GRDH_1SDV_20240911T015016_20240911T015045_055611_06C9E7_3B08\"\n",
      "⚠️  No .zip found for scene \"S1A_IW_GRDH_1SDV_20240923T015016_20240923T015045_055786_06D0CD_4C0A\"\n",
      "⚠️  No .zip found for scene \"S1A_IW_GRDH_1SDV_20240923T135318_20240923T135343_055793_06D11E_354B\"\n",
      "⚠️  No .zip found for scene \"S1A_IW_GRDH_1SDV_20241012T134456_20241012T134521_056070_06DC04_4FC8\"\n",
      "⚠️  No .zip found for scene \"S1A_IW_GRDH_1SDV_20241122T015016_20241122T015045_056661_06F388_00D1\"\n",
      "⚠️  No .zip found for scene \"S1A_IW_GRDH_1SDV_20241122T135318_20241122T135343_056668_06F3D6_0258\"\n",
      "✔️  Copied \"S1A_IW_GRDH_1SDV_20241216T015014_20241216T015043_057011_070161_E8F2.zip\" to \"/Volumes/External/TJ_SAR/01_data/03_2022_2025_gooddays\"\n",
      "✔️  Copied \"S1A_IW_GRDH_1SDV_20241216T135316_20241216T135341_057018_0701B0_5892.zip\" to \"/Volumes/External/TJ_SAR/01_data/03_2022_2025_gooddays\"\n",
      "✔️  Copied \"S1A_IW_GRDH_1SDV_20250202T015002_20250202T015031_057711_071D19_1729.zip\" to \"/Volumes/External/TJ_SAR/01_data/03_2022_2025_gooddays\"\n",
      "✔️  Copied \"S1A_IW_GRDH_1SDV_20250202T135312_20250202T135337_057718_071D69_4DDB.zip\" to \"/Volumes/External/TJ_SAR/01_data/03_2022_2025_gooddays\"\n",
      "✔️  Copied \"S1A_IW_GRDH_1SDV_20250226T015001_20250226T015030_058061_072B37_4E9F.zip\" to \"/Volumes/External/TJ_SAR/01_data/03_2022_2025_gooddays\"\n",
      "✔️  Copied \"S1A_IW_GRDH_1SDV_20250310T015010_20250310T015039_058236_07325B_1D4B.zip\" to \"/Volumes/External/TJ_SAR/01_data/03_2022_2025_gooddays\"\n",
      "✔️  Copied \"S1A_IW_GRDH_1SDV_20250329T134449_20250329T134514_058520_073D9E_3883.zip\" to \"/Volumes/External/TJ_SAR/01_data/03_2022_2025_gooddays\"\n",
      "✔️  Copied \"S1A_IW_GRDH_1SDV_20250403T015002_20250403T015031_058586_074050_2A31.zip\" to \"/Volumes/External/TJ_SAR/01_data/03_2022_2025_gooddays\"\n",
      "✔️  Copied \"S1A_IW_GRDH_1SDV_20250415T015002_20250415T015031_058761_07477F_A67C.zip\" to \"/Volumes/External/TJ_SAR/01_data/03_2022_2025_gooddays\"\n",
      "✔️  Copied \"S1A_IW_GRDH_1SDV_20250509T015010_20250509T015039_059111_07557C_D41A.zip\" to \"/Volumes/External/TJ_SAR/01_data/03_2022_2025_gooddays\"\n",
      "✔️  Copied \"S1A_IW_GRDH_1SDV_20250509T135312_20250509T135337_059118_0755BD_4653.zip\" to \"/Volumes/External/TJ_SAR/01_data/03_2022_2025_gooddays\"\n",
      "✔️  Copied \"S1A_IW_GRDH_1SDV_20250602T015009_20250602T015038_059461_07619A_2357.zip\" to \"/Volumes/External/TJ_SAR/01_data/03_2022_2025_gooddays\"\n",
      "✔️  Copied \"S1A_IW_GRDH_1SDV_20250621T134447_20250621T134512_059745_076B58_9374.zip\" to \"/Volumes/External/TJ_SAR/01_data/03_2022_2025_gooddays\"\n",
      "✔️  Copied \"S1C_IW_GRDH_1SDV_20250421T014857_20250421T014922_001985_003FBB_DFC0.zip\" to \"/Volumes/External/TJ_SAR/01_data/03_2022_2025_gooddays\"\n"
     ]
    }
   ],
   "source": [
    "import pandas as pd\n",
    "from pathlib import Path\n",
    "import shutil\n",
    "\n",
    "# ─── CONFIG ──────────────────────────────────────────────────────────\n",
    "csv_file    = Path('/Volumes/External/TJ_SAR/_archive/test/sentinel1_times.csv')       # your CSV file\n",
    "raw_folder  = Path('/Volumes/External/TJ_SAR/01_data/02_2025_2020')  # root of all your raw .zip files\n",
    "output_dir = Path('/Volumes/External/TJ_SAR/01_data/03_2022_2025_gooddays')       # where to dump one-folder-per-scene\n",
    "# ────────────────────────────────────────────────────────────────────\n",
    "\n",
    "output_dir.mkdir(parents=True, exist_ok=True)\n",
    "\n",
    "# Read just the original filenames\n",
    "df = pd.read_csv(csv_file, usecols=['original_filename'])\n",
    "\n",
    "for orig in df['original_filename'].dropna().unique():\n",
    "    # strip suffix to get the scene base name\n",
    "    scene_id = orig.rsplit('_pre_overlay.png', 1)[0]\n",
    "\n",
    "    # find the zip(s) matching that base name\n",
    "    matches = list(raw_folder.rglob(f'{scene_id}.zip'))\n",
    "    if not matches:\n",
    "        print(f'⚠️  No .zip found for scene \"{scene_id}\"')\n",
    "        continue\n",
    "\n",
    "    for zip_path in matches:\n",
    "        dest = output_dir / zip_path.name\n",
    "        # if you want to avoid overwriting, you could check .exists() here\n",
    "        shutil.copy2(zip_path, dest)\n",
    "        print(f'✔️  Copied \"{zip_path.name}\" to \"{output_dir}\"')\n"
   ]
  }
 ],
 "metadata": {
  "kernelspec": {
   "display_name": "Python 3",
   "language": "python",
   "name": "python3"
  },
  "language_info": {
   "codemirror_mode": {
    "name": "ipython",
    "version": 2
   },
   "file_extension": ".py",
   "mimetype": "text/x-python",
   "name": "python",
   "nbconvert_exporter": "python",
   "pygments_lexer": "ipython2",
   "version": "2.7.6"
  }
 },
 "nbformat": 4,
 "nbformat_minor": 5
}
