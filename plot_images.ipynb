{
 "cells": [
  {
   "cell_type": "code",
   "id": "initial_id",
   "metadata": {
    "collapsed": true,
    "ExecuteTime": {
     "end_time": "2025-07-02T20:54:44.522878Z",
     "start_time": "2025-07-02T20:54:44.520223Z"
    }
   },
   "source": [
    "import os\n",
    "import numpy as np\n",
    "import matplotlib.pyplot as plt\n",
    "import rasterio\n",
    "from matplotlib.colors import ListedColormap"
   ],
   "outputs": [],
   "execution_count": 20
  },
  {
   "metadata": {
    "ExecuteTime": {
     "end_time": "2025-07-02T20:54:45.439130Z",
     "start_time": "2025-07-02T20:54:45.435912Z"
    }
   },
   "cell_type": "code",
   "source": [
    "# --- Parameters ---\n",
    "original_root = \"/Users/ereilly/Documents/code/autoSAR_preprocessing/test/output\"\n",
    "mask_root = \"/Users/ereilly/Documents/code/autoSAR_preprocessing/output_postprocessing\"\n",
    "output_plot_dir = \"/Users/ereilly/Documents/code/autoSAR_preprocessing/plotted_images\""
   ],
   "id": "9d322ec7c53089c3",
   "outputs": [],
   "execution_count": 21
  },
  {
   "metadata": {
    "ExecuteTime": {
     "end_time": "2025-07-02T20:54:46.324550Z",
     "start_time": "2025-07-02T20:54:46.321171Z"
    }
   },
   "cell_type": "code",
   "source": [
    "overlay_cmap = ListedColormap([\n",
    "    (0.0, 0.0, 0.0, 0.0),   # transparent\n",
    "    (1.0, 0.5, 0.0, 1.0)    # solid orange\n",
    "])\n"
   ],
   "id": "45ee58db6bff4b69",
   "outputs": [],
   "execution_count": 22
  },
  {
   "metadata": {
    "ExecuteTime": {
     "end_time": "2025-07-02T20:55:01.936100Z",
     "start_time": "2025-07-02T20:55:01.932832Z"
    }
   },
   "cell_type": "code",
   "source": [
    "# --- Function to get original image path based on naming pattern ---\n",
    "def match_original_path(mask_filename):\n",
    "    return os.path.join(original_root, mask_filename.replace(\"_JPL0.4_VVDR_cumulative_mask.tif\", \".tif\"))"
   ],
   "id": "8e2497dcbb214339",
   "outputs": [],
   "execution_count": 23
  },
  {
   "metadata": {
    "ExecuteTime": {
     "end_time": "2025-07-02T20:59:05.270773Z",
     "start_time": "2025-07-02T20:59:05.265463Z"
    }
   },
   "cell_type": "code",
   "source": [
    "# Plot side-by-side: original + overlay\n",
    "def plot_overlay(original_path, mask_path, output_path):\n",
    "    with rasterio.open(original_path) as src:\n",
    "        original = src.read(1)\n",
    "        bounds = src.bounds\n",
    "        extent = [bounds.left, bounds.right, bounds.bottom, bounds.top]\n",
    "\n",
    "    with rasterio.open(mask_path) as src:\n",
    "        mask = src.read(1)\n",
    "\n",
    "    # Normalize original using standard deviation\n",
    "    mean = np.nanmean(original)\n",
    "    std = np.nanstd(original)\n",
    "    z_scaled = (original - mean) / std\n",
    "    clipped = np.clip(z_scaled, -2, 2)\n",
    "    normed = (clipped + 2) / 4  # range [0, 1]\n",
    "\n",
    "    # Plot side-by-side\n",
    "    fig, axes = plt.subplots(1, 2, figsize=(10, 12), constrained_layout=True)\n",
    "\n",
    "\n",
    "    # Left: original\n",
    "    axes[0].imshow(normed, cmap=\"gray\", extent=extent)\n",
    "    axes[0].set_title(\"Pre-Processed\", fontsize=16)\n",
    "    axes[0].axis('off')\n",
    "\n",
    "    # Right: original + mask\n",
    "    axes[1].imshow(normed, cmap=\"gray\", extent=extent)\n",
    "    axes[1].imshow(mask, cmap=overlay_cmap, extent=extent)\n",
    "    axes[1].set_title(\"Output with Mask\", fontsize=16)\n",
    "    axes[1].axis('off')\n",
    "\n",
    "    os.makedirs(output_plot_dir, exist_ok=True)\n",
    "    plt.savefig(output_path, dpi=150, bbox_inches='tight')\n",
    "    plt.close()\n",
    "    print(f\"Saved: {output_path}\")"
   ],
   "id": "678ce02e6d5dd2ea",
   "outputs": [],
   "execution_count": 29
  },
  {
   "metadata": {
    "ExecuteTime": {
     "end_time": "2025-07-02T21:00:24.121527Z",
     "start_time": "2025-07-02T20:59:06.847711Z"
    }
   },
   "cell_type": "code",
   "source": [
    "# --- Iterate over all masks ---\n",
    "for root, _, files in os.walk(mask_root):\n",
    "    for file in files:\n",
    "        if file.endswith(\"_JPL0.4_VVDR_cumulative_mask.tif\"):\n",
    "            mask_path = os.path.join(root, file)\n",
    "            original_path = match_original_path(file)\n",
    "\n",
    "            if os.path.exists(original_path):\n",
    "                # Save all to flat folder, name derived from base name\n",
    "                out_name = file.replace(\"_JPL0.4_VVDR_cumulative_mask.tif\", \"_overlay.png\")\n",
    "                output_path = os.path.join(output_plot_dir, out_name)\n",
    "                plot_overlay(original_path, mask_path, output_path)\n",
    "            else:\n",
    "                print(f\"[!] Original not found for: {file}\")"
   ],
   "id": "aa23902386688c06",
   "outputs": [
    {
     "name": "stdout",
     "output_type": "stream",
     "text": [
      "Saved: /Users/ereilly/Documents/code/autoSAR_preprocessing/plotted_images/S1A_IW_GRDH_1SDV_20241216T015014_20241216T015043_057011_070161_E8F2_pre_overlay.png\n",
      "Saved: /Users/ereilly/Documents/code/autoSAR_preprocessing/plotted_images/S1A_IW_GRDH_1SDV_20241129T134455_20241129T134520_056770_06F7DB_D673_pre_overlay.png\n",
      "Saved: /Users/ereilly/Documents/code/autoSAR_preprocessing/plotted_images/S1A_IW_GRDH_1SDV_20241110T135319_20241110T135344_056493_06ECD4_BBBF_pre_overlay.png\n",
      "Saved: /Users/ereilly/Documents/code/autoSAR_preprocessing/plotted_images/S1A_IW_GRDH_1SDV_20241017T015017_20241017T015046_056136_06DE9F_4EAA_pre_overlay.png\n",
      "Saved: /Users/ereilly/Documents/code/autoSAR_preprocessing/plotted_images/S1A_IW_GRDH_1SDV_20240830T015015_20240830T015045_055436_06C312_73FC_pre_overlay.png\n",
      "Saved: /Users/ereilly/Documents/code/autoSAR_preprocessing/plotted_images/S1A_IW_GRDH_1SDV_20241029T015017_20241029T015046_056311_06E595_EEAE_pre_overlay.png\n",
      "Saved: /Users/ereilly/Documents/code/autoSAR_preprocessing/plotted_images/S1A_IW_GRDH_1SDV_20240720T134455_20240720T134520_054845_06ADDF_F02B_pre_overlay.png\n",
      "Saved: /Users/ereilly/Documents/code/autoSAR_preprocessing/plotted_images/S1A_IW_GRDH_1SDV_20240906T134455_20240906T134520_055545_06C745_BC60_pre_overlay.png\n",
      "Saved: /Users/ereilly/Documents/code/autoSAR_preprocessing/plotted_images/S1A_IW_GRDH_1SDV_20240619T135319_20240619T135344_054393_069E33_8C28_pre_overlay.png\n",
      "Saved: /Users/ereilly/Documents/code/autoSAR_preprocessing/plotted_images/S1A_IW_GRDH_1SDV_20241005T015016_20241005T015045_055961_06D7BE_EA54_pre_overlay.png\n",
      "Saved: /Users/ereilly/Documents/code/autoSAR_preprocessing/plotted_images/S1A_IW_GRDH_1SDV_20240708T134455_20240708T134520_054670_06A7D2_713E_pre_overlay.png\n",
      "Saved: /Users/ereilly/Documents/code/autoSAR_preprocessing/plotted_images/S1A_IW_GRDH_1SDV_20241211T134454_20241211T134519_056945_06FEB3_3558_pre_overlay.png\n",
      "Saved: /Users/ereilly/Documents/code/autoSAR_preprocessing/plotted_images/S1A_IW_GRDH_1SDV_20240713T135318_20240713T135343_054743_06AA5A_62DC_pre_overlay.png\n",
      "Saved: /Users/ereilly/Documents/code/autoSAR_preprocessing/plotted_images/S1A_IW_GRDH_1SDV_20240725T015015_20240725T015044_054911_06B032_3EFF_pre_overlay.png\n",
      "Saved: /Users/ereilly/Documents/code/autoSAR_preprocessing/plotted_images/S1A_IW_GRDH_1SDV_20240918T134456_20240918T134521_055720_06CE30_E1E3_pre_overlay.png\n",
      "Saved: /Users/ereilly/Documents/code/autoSAR_preprocessing/plotted_images/S1A_IW_GRDH_1SDV_20241024T134456_20241024T134521_056245_06E2F3_544C_pre_overlay.png\n",
      "Saved: /Users/ereilly/Documents/code/autoSAR_preprocessing/plotted_images/S1A_IW_GRDH_1SDV_20240825T134455_20240825T134520_055370_06C0B3_2887_pre_overlay.png\n",
      "Saved: /Users/ereilly/Documents/code/autoSAR_preprocessing/plotted_images/S1A_IW_GRDH_1SDV_20241204T135317_20241204T135342_056843_06FAC2_A1E1_pre_overlay.png\n",
      "Saved: /Users/ereilly/Documents/code/autoSAR_preprocessing/plotted_images/S1A_IW_GRDH_1SDV_20241228T015013_20241228T015042_057186_070853_6333_pre_overlay.png\n",
      "Saved: /Users/ereilly/Documents/code/autoSAR_preprocessing/plotted_images/S1A_IW_GRDH_1SDV_20240818T135318_20240818T135343_055268_06BCE6_480E_pre_overlay.png\n",
      "Saved: /Users/ereilly/Documents/code/autoSAR_preprocessing/plotted_images/S1A_IW_GRDH_1SDV_20240806T135317_20240806T135342_055093_06B68A_CCC5_pre_overlay.png\n",
      "Saved: /Users/ereilly/Documents/code/autoSAR_preprocessing/plotted_images/S1A_IW_GRDH_1SDV_20240626T134456_20240626T134521_054495_06A1B9_8996_pre_overlay.png\n",
      "Saved: /Users/ereilly/Documents/code/autoSAR_preprocessing/plotted_images/S1A_IW_GRDH_1SDV_20241216T135316_20241216T135341_057018_0701B0_5892_pre_overlay.png\n",
      "Saved: /Users/ereilly/Documents/code/autoSAR_preprocessing/plotted_images/S1A_IW_GRDH_1SDV_20240813T134454_20240813T134519_055195_06BA35_56BE_pre_overlay.png\n",
      "Saved: /Users/ereilly/Documents/code/autoSAR_preprocessing/plotted_images/S1A_IW_GRDH_1SDV_20241117T134456_20241117T134521_056595_06F0DF_6AA8_pre_overlay.png\n",
      "Saved: /Users/ereilly/Documents/code/autoSAR_preprocessing/plotted_images/S1A_IW_GRDH_1SDV_20240713T015016_20240713T015045_054736_06AA18_48C2_pre_overlay.png\n",
      "Saved: /Users/ereilly/Documents/code/autoSAR_preprocessing/plotted_images/S1A_IW_GRDH_1SDV_20240725T135317_20240725T135342_054918_06B074_6D24_pre_overlay.png\n",
      "Saved: /Users/ereilly/Documents/code/autoSAR_preprocessing/plotted_images/S1A_IW_GRDH_1SDV_20240806T015015_20240806T015044_055086_06B638_CB9C_pre_overlay.png\n",
      "Saved: /Users/ereilly/Documents/code/autoSAR_preprocessing/plotted_images/S1A_IW_GRDH_1SDV_20241105T134456_20241105T134521_056420_06E9E3_3EBC_pre_overlay.png\n",
      "Saved: /Users/ereilly/Documents/code/autoSAR_preprocessing/plotted_images/S1A_IW_GRDH_1SDV_20240911T015016_20240911T015045_055611_06C9E7_3B08_pre_overlay.png\n",
      "Saved: /Users/ereilly/Documents/code/autoSAR_preprocessing/plotted_images/S1A_IW_GRDH_1SDV_20240701T135318_20240701T135343_054568_06A44B_57BB_pre_overlay.png\n",
      "Saved: /Users/ereilly/Documents/code/autoSAR_preprocessing/plotted_images/S1A_IW_GRDH_1SDV_20241029T135319_20241029T135344_056318_06E5E2_52F5_pre_overlay.png\n",
      "Saved: /Users/ereilly/Documents/code/autoSAR_preprocessing/plotted_images/S1A_IW_GRDH_1SDV_20240607T135319_20240607T135344_054218_069828_6D52_pre_overlay.png\n",
      "Saved: /Users/ereilly/Documents/code/autoSAR_preprocessing/plotted_images/S1A_IW_GRDH_1SDV_20241005T135319_20241005T135344_055968_06D804_146E_pre_overlay.png\n",
      "Saved: /Users/ereilly/Documents/code/autoSAR_preprocessing/plotted_images/S1A_IW_GRDH_1SDV_20241204T015015_20241204T015044_056836_06FA75_DFE3_pre_overlay.png\n",
      "Saved: /Users/ereilly/Documents/code/autoSAR_preprocessing/plotted_images/S1A_IW_GRDH_1SDV_20240930T134456_20240930T134521_055895_06D520_6A0F_pre_overlay.png\n",
      "Saved: /Users/ereilly/Documents/code/autoSAR_preprocessing/plotted_images/S1A_IW_GRDH_1SDV_20240911T135318_20240911T135343_055618_06CA33_3AB0_pre_overlay.png\n",
      "Saved: /Users/ereilly/Documents/code/autoSAR_preprocessing/plotted_images/S1A_IW_GRDH_1SDV_20240801T134455_20240801T134520_055020_06B3F8_8F59_pre_overlay.png\n",
      "Saved: /Users/ereilly/Documents/code/autoSAR_preprocessing/plotted_images/S1A_IW_GRDH_1SDV_20240701T015016_20240701T015045_054561_06A407_78C1_pre_overlay.png\n",
      "Saved: /Users/ereilly/Documents/code/autoSAR_preprocessing/plotted_images/S1A_IW_GRDH_1SDV_20240818T015015_20240818T015044_055261_06BC99_5148_pre_overlay.png\n",
      "Saved: /Users/ereilly/Documents/code/autoSAR_preprocessing/plotted_images/S1A_IW_GRDH_1SDV_20241122T015016_20241122T015045_056661_06F388_00D1_pre_overlay.png\n",
      "Saved: /Users/ereilly/Documents/code/autoSAR_preprocessing/plotted_images/S1A_IW_GRDH_1SDV_20240619T015017_20240619T015046_054386_069DEF_1E63_pre_overlay.png\n",
      "Saved: /Users/ereilly/Documents/code/autoSAR_preprocessing/plotted_images/S1A_IW_GRDH_1SDV_20241110T015016_20241110T015045_056486_06EC81_800D_pre_overlay.png\n",
      "Saved: /Users/ereilly/Documents/code/autoSAR_preprocessing/plotted_images/S1A_IW_GRDH_1SDV_20240614T134456_20240614T134521_054320_069BA3_E195_pre_overlay.png\n",
      "Saved: /Users/ereilly/Documents/code/autoSAR_preprocessing/plotted_images/S1A_IW_GRDH_1SDV_20240923T135318_20240923T135343_055793_06D11E_354B_pre_overlay.png\n",
      "Saved: /Users/ereilly/Documents/code/autoSAR_preprocessing/plotted_images/S1A_IW_GRDH_1SDV_20240830T135318_20240830T135343_055443_06C35B_0F4A_pre_overlay.png\n",
      "Saved: /Users/ereilly/Documents/code/autoSAR_preprocessing/plotted_images/S1A_IW_GRDH_1SDV_20241122T135318_20241122T135343_056668_06F3D6_0258_pre_overlay.png\n",
      "Saved: /Users/ereilly/Documents/code/autoSAR_preprocessing/plotted_images/S1A_IW_GRDH_1SDV_20241017T135319_20241017T135344_056143_06DEF0_4602_pre_overlay.png\n",
      "Saved: /Users/ereilly/Documents/code/autoSAR_preprocessing/plotted_images/S1A_IW_GRDH_1SDV_20240923T015016_20240923T015045_055786_06D0CD_4C0A_pre_overlay.png\n",
      "Saved: /Users/ereilly/Documents/code/autoSAR_preprocessing/plotted_images/S1A_IW_GRDH_1SDV_20240602T134457_20240602T134522_054145_069598_F5E2_pre_overlay.png\n",
      "Saved: /Users/ereilly/Documents/code/autoSAR_preprocessing/plotted_images/S1A_IW_GRDH_1SDV_20241223T134453_20241223T134518_057120_0705BE_A61A_pre_overlay.png\n",
      "Saved: /Users/ereilly/Documents/code/autoSAR_preprocessing/plotted_images/S1A_IW_GRDH_1SDV_20241228T135315_20241228T135340_057193_0708A1_63F7_pre_overlay.png\n",
      "Saved: /Users/ereilly/Documents/code/autoSAR_preprocessing/plotted_images/S1A_IW_GRDH_1SDV_20241012T134456_20241012T134521_056070_06DC04_4FC8_pre_overlay.png\n"
     ]
    }
   ],
   "execution_count": 30
  },
  {
   "metadata": {},
   "cell_type": "code",
   "outputs": [],
   "execution_count": null,
   "source": "",
   "id": "8f963dce7179513f"
  },
  {
   "metadata": {},
   "cell_type": "code",
   "outputs": [],
   "execution_count": null,
   "source": "",
   "id": "4eea540f21b6bace"
  },
  {
   "metadata": {},
   "cell_type": "code",
   "outputs": [],
   "execution_count": null,
   "source": "",
   "id": "372a0c941acb2359"
  },
  {
   "metadata": {},
   "cell_type": "code",
   "outputs": [],
   "execution_count": null,
   "source": "",
   "id": "8ce2cae1cdfba312"
  },
  {
   "metadata": {
    "ExecuteTime": {
     "end_time": "2025-07-02T21:25:04.022233Z",
     "start_time": "2025-07-02T21:25:04.019255Z"
    }
   },
   "cell_type": "code",
   "source": [
    "import os\n",
    "import numpy as np\n",
    "import pandas as pd\n",
    "import matplotlib.pyplot as plt\n",
    "import rasterio\n",
    "from datetime import datetime\n",
    "from pytz import timezone, utc\n",
    "from matplotlib.colors import ListedColormap\n",
    "from pytz import timezone\n"
   ],
   "id": "b4585829607c9715",
   "outputs": [],
   "execution_count": 39
  },
  {
   "metadata": {
    "ExecuteTime": {
     "end_time": "2025-07-02T21:25:05.658005Z",
     "start_time": "2025-07-02T21:25:05.654310Z"
    }
   },
   "cell_type": "code",
   "source": [
    "# --- Parameters ---\n",
    "original_root = \"/Users/ereilly/Documents/code/autoSAR_preprocessing/test/output\"\n",
    "mask_root = \"/Users/ereilly/Documents/code/autoSAR_preprocessing/output_postprocessing\"\n",
    "output_plot_dir = \"/Users/ereilly/Documents/code/autoSAR_preprocessing/plotted_images/wind\"\n",
    "met_csv_path = \"/Volumes/External/TJ_estuary/analysis/TJRTLMET.csv\"\n"
   ],
   "id": "965f1da0160c211b",
   "outputs": [],
   "execution_count": 40
  },
  {
   "metadata": {
    "ExecuteTime": {
     "end_time": "2025-07-02T21:29:30.290609Z",
     "start_time": "2025-07-02T21:29:30.171931Z"
    }
   },
   "cell_type": "code",
   "source": [
    "\n",
    "pacific = timezone(\"US/Pacific\")\n",
    "# --- Load meteorological data (in Pacific Time) ---\n",
    "met_df = pd.read_csv(met_csv_path)\n",
    "met_df.columns = met_df.columns.str.strip()\n",
    "\n",
    "met_df[\"DateTimeStamp\"] = pd.to_datetime(met_df[\"DateTimeStamp\"], format=\"%m/%d/%y %H:%M\")\n",
    "met_df[\"DateTimeStamp\"] = met_df[\"DateTimeStamp\"].dt.tz_localize(pacific, ambiguous='NaT')\n",
    "met_df = met_df.dropna(subset=[\"DateTimeStamp\"])\n",
    "met_df = met_df.sort_values(\"DateTimeStamp\")\n",
    "\n",
    "# --- Overlay color map: solid orange mask ---\n",
    "overlay_cmap = ListedColormap([\n",
    "    (0.0, 0.0, 0.0, 0.0),   # transparent\n",
    "    (1.0, 0.5, 0.0, 1.0)    # solid orange\n",
    "])\n"
   ],
   "id": "d960aafb06cd8a62",
   "outputs": [],
   "execution_count": 47
  },
  {
   "metadata": {
    "ExecuteTime": {
     "end_time": "2025-07-02T21:53:34.149437Z",
     "start_time": "2025-07-02T21:53:34.140273Z"
    }
   },
   "cell_type": "code",
   "source": [
    "def extract_datetime_from_filename(filename):\n",
    "    \"\"\"Extract UTC datetime from Sentinel-1 filename.\"\"\"\n",
    "    parts = filename.split(\"_\")\n",
    "    for part in parts:\n",
    "        if part.startswith(\"20\") and \"T\" in part:\n",
    "            try:\n",
    "                return utc.localize(datetime.strptime(part, \"%Y%m%dT%H%M%S\"))\n",
    "            except ValueError:\n",
    "                continue\n",
    "    return None\n",
    "\n",
    "def get_nearest_met_data(local_time):\n",
    "    \"\"\"Find the closest met record to the given local time.\"\"\"\n",
    "    time_deltas = (met_df[\"DateTimeStamp\"] - local_time).abs()\n",
    "    nearest_idx = time_deltas.idxmin()\n",
    "    row = met_df.loc[nearest_idx]\n",
    "    return row[\"WSpd\"], row[\"Wdir\"], row[\"DateTimeStamp\"]\n",
    "\n",
    "def match_original_path(mask_filename):\n",
    "    return os.path.join(original_root, mask_filename.replace(\"_JPL0.4_VVDR_cumulative_mask.tif\", \".tif\"))\n",
    "\n",
    "def plot_overlay(original_path, mask_path, output_path):\n",
    "    # --- Extract and convert image time ---\n",
    "    image_time_utc = extract_datetime_from_filename(os.path.basename(original_path))\n",
    "    image_time_local = image_time_utc.astimezone(pacific)\n",
    "\n",
    "    # --- Match meteorological data ---\n",
    "    wspd, wdir, met_time = get_nearest_met_data(image_time_local)\n",
    "\n",
    "    # --- Read images ---\n",
    "    with rasterio.open(original_path) as src:\n",
    "        original = src.read(1)\n",
    "        bounds = src.bounds\n",
    "        extent = [bounds.left, bounds.right, bounds.bottom, bounds.top]\n",
    "\n",
    "    with rasterio.open(mask_path) as src:\n",
    "        mask = src.read(1)\n",
    "\n",
    "    # --- Normalize image using standard deviation scaling ---\n",
    "    mean = np.nanmean(original)\n",
    "    std = np.nanstd(original)\n",
    "    z_scaled = (original - mean) / std\n",
    "    clipped = np.clip(z_scaled, -2, 2)\n",
    "    normed = (clipped + 2) / 4  # Scale to [0, 1]\n",
    "\n",
    "    # --- Set up side-by-side figure ---\n",
    "    fig, axes = plt.subplots(1, 2, figsize=(10, 12), constrained_layout=True)\n",
    "\n",
    "    # Left: original only\n",
    "    axes[0].imshow(normed, cmap=\"gray\", extent=extent)\n",
    "    axes[0].set_title(\"Original (Normalized)\", fontsize=12)\n",
    "    axes[0].axis('off')\n",
    "\n",
    "    # Right: original + mask\n",
    "    axes[1].imshow(normed, cmap=\"gray\", extent=extent)\n",
    "    axes[1].imshow(mask, cmap=overlay_cmap, extent=extent)\n",
    "    axes[1].set_title(\"Original with Mask\", fontsize=12)\n",
    "    axes[1].axis('off')\n",
    "\n",
    "    # --- Bottom annotation: wind info + local time ---\n",
    "    wind_text = (\n",
    "        f\"Wind: {wspd:.1f} m/s @ {wdir:.0f}°\\n\"\n",
    "        f\"Local Time: {image_time_local.strftime('%Y-%m-%d %H:%M')}\"\n",
    "    )\n",
    "    fig.text(0.5, 0.015, wind_text, ha='center', fontsize=13, fontweight='bold')\n",
    "\n",
    "\n",
    "    # --- Wind vector in real coordinates ---\n",
    "    import matplotlib.patches as patches\n",
    "    import math\n",
    "\n",
    "\n",
    "    # --- Compute arrow parameters ---\n",
    "    wind_angle_deg = (270 - wdir) % 360  # convert \"from\" to math angle\n",
    "    angle_rad = math.radians(wind_angle_deg)\n",
    "\n",
    "    # Get image height (in spatial units)\n",
    "    height = bounds.top - bounds.bottom\n",
    "\n",
    "    # Base arrow length as % of image height, scaled by wind speed\n",
    "    base_frac = 0.07  # base length = 7% of image height\n",
    "    scale = np.clip(wspd / 10, 0.5, 1.5)  # scale between 50%–150%\n",
    "    arrow_length = height * base_frac * scale\n",
    "\n",
    "    # Arrow vector\n",
    "    dx = arrow_length * math.cos(angle_rad)\n",
    "    dy = arrow_length * math.sin(angle_rad)\n",
    "\n",
    "    # Starting point (near bottom-right of image)\n",
    "    x0 = bounds.right - 0.1 * (bounds.right - bounds.left)\n",
    "    y0 = bounds.bottom + 0.05 * height\n",
    "\n",
    "    # --- Draw the arrow ---\n",
    "    axes[1].add_patch(\n",
    "        patches.FancyArrow(\n",
    "            x0, y0, dx, dy,\n",
    "            width=arrow_length * 0.05,\n",
    "            head_width=arrow_length * 0.15,\n",
    "            head_length=arrow_length * 0.15,\n",
    "            length_includes_head=True,\n",
    "            transform=axes[1].transData,\n",
    "            color='lime',\n",
    "            alpha=0.9\n",
    "        )\n",
    "    )\n",
    "\n",
    "    # --- Save plot ---\n",
    "    os.makedirs(output_plot_dir, exist_ok=True)\n",
    "    plt.savefig(output_path, dpi=150, bbox_inches='tight')\n",
    "    plt.close()\n",
    "    print(f\"Saved: {output_path}\")\n",
    "\n"
   ],
   "id": "12f8fb2c799f0197",
   "outputs": [],
   "execution_count": 63
  },
  {
   "metadata": {
    "ExecuteTime": {
     "end_time": "2025-07-02T21:54:55.953884Z",
     "start_time": "2025-07-02T21:53:35.752803Z"
    }
   },
   "cell_type": "code",
   "source": [
    "# --- Main processing loop ---\n",
    "for root, _, files in os.walk(mask_root):\n",
    "    for file in files:\n",
    "        if file.endswith(\"_JPL0.4_VVDR_cumulative_mask.tif\"):\n",
    "            mask_path = os.path.join(root, file)\n",
    "            original_path = match_original_path(file)\n",
    "\n",
    "            if os.path.exists(original_path):\n",
    "                flat_name = file.replace(\"_JPL0.4_VVDR_cumulative_mask.tif\", \"_overlay.png\")\n",
    "                output_path = os.path.join(output_plot_dir, flat_name)\n",
    "                plot_overlay(original_path, mask_path, output_path)\n",
    "            else:\n",
    "                print(f\"[!] Original image not found for: {file}\")\n"
   ],
   "id": "8ae6c4a660cd8580",
   "outputs": [
    {
     "name": "stdout",
     "output_type": "stream",
     "text": [
      "Saved: /Users/ereilly/Documents/code/autoSAR_preprocessing/plotted_images/wind/S1A_IW_GRDH_1SDV_20241216T015014_20241216T015043_057011_070161_E8F2_pre_overlay.png\n",
      "Saved: /Users/ereilly/Documents/code/autoSAR_preprocessing/plotted_images/wind/S1A_IW_GRDH_1SDV_20241129T134455_20241129T134520_056770_06F7DB_D673_pre_overlay.png\n",
      "Saved: /Users/ereilly/Documents/code/autoSAR_preprocessing/plotted_images/wind/S1A_IW_GRDH_1SDV_20241110T135319_20241110T135344_056493_06ECD4_BBBF_pre_overlay.png\n",
      "Saved: /Users/ereilly/Documents/code/autoSAR_preprocessing/plotted_images/wind/S1A_IW_GRDH_1SDV_20241017T015017_20241017T015046_056136_06DE9F_4EAA_pre_overlay.png\n",
      "Saved: /Users/ereilly/Documents/code/autoSAR_preprocessing/plotted_images/wind/S1A_IW_GRDH_1SDV_20240830T015015_20240830T015045_055436_06C312_73FC_pre_overlay.png\n",
      "Saved: /Users/ereilly/Documents/code/autoSAR_preprocessing/plotted_images/wind/S1A_IW_GRDH_1SDV_20241029T015017_20241029T015046_056311_06E595_EEAE_pre_overlay.png\n",
      "Saved: /Users/ereilly/Documents/code/autoSAR_preprocessing/plotted_images/wind/S1A_IW_GRDH_1SDV_20240720T134455_20240720T134520_054845_06ADDF_F02B_pre_overlay.png\n",
      "Saved: /Users/ereilly/Documents/code/autoSAR_preprocessing/plotted_images/wind/S1A_IW_GRDH_1SDV_20240906T134455_20240906T134520_055545_06C745_BC60_pre_overlay.png\n",
      "Saved: /Users/ereilly/Documents/code/autoSAR_preprocessing/plotted_images/wind/S1A_IW_GRDH_1SDV_20240619T135319_20240619T135344_054393_069E33_8C28_pre_overlay.png\n",
      "Saved: /Users/ereilly/Documents/code/autoSAR_preprocessing/plotted_images/wind/S1A_IW_GRDH_1SDV_20241005T015016_20241005T015045_055961_06D7BE_EA54_pre_overlay.png\n",
      "Saved: /Users/ereilly/Documents/code/autoSAR_preprocessing/plotted_images/wind/S1A_IW_GRDH_1SDV_20240708T134455_20240708T134520_054670_06A7D2_713E_pre_overlay.png\n",
      "Saved: /Users/ereilly/Documents/code/autoSAR_preprocessing/plotted_images/wind/S1A_IW_GRDH_1SDV_20241211T134454_20241211T134519_056945_06FEB3_3558_pre_overlay.png\n",
      "Saved: /Users/ereilly/Documents/code/autoSAR_preprocessing/plotted_images/wind/S1A_IW_GRDH_1SDV_20240713T135318_20240713T135343_054743_06AA5A_62DC_pre_overlay.png\n",
      "Saved: /Users/ereilly/Documents/code/autoSAR_preprocessing/plotted_images/wind/S1A_IW_GRDH_1SDV_20240725T015015_20240725T015044_054911_06B032_3EFF_pre_overlay.png\n",
      "Saved: /Users/ereilly/Documents/code/autoSAR_preprocessing/plotted_images/wind/S1A_IW_GRDH_1SDV_20240918T134456_20240918T134521_055720_06CE30_E1E3_pre_overlay.png\n",
      "Saved: /Users/ereilly/Documents/code/autoSAR_preprocessing/plotted_images/wind/S1A_IW_GRDH_1SDV_20241024T134456_20241024T134521_056245_06E2F3_544C_pre_overlay.png\n",
      "Saved: /Users/ereilly/Documents/code/autoSAR_preprocessing/plotted_images/wind/S1A_IW_GRDH_1SDV_20240825T134455_20240825T134520_055370_06C0B3_2887_pre_overlay.png\n",
      "Saved: /Users/ereilly/Documents/code/autoSAR_preprocessing/plotted_images/wind/S1A_IW_GRDH_1SDV_20241204T135317_20241204T135342_056843_06FAC2_A1E1_pre_overlay.png\n",
      "Saved: /Users/ereilly/Documents/code/autoSAR_preprocessing/plotted_images/wind/S1A_IW_GRDH_1SDV_20241228T015013_20241228T015042_057186_070853_6333_pre_overlay.png\n",
      "Saved: /Users/ereilly/Documents/code/autoSAR_preprocessing/plotted_images/wind/S1A_IW_GRDH_1SDV_20240818T135318_20240818T135343_055268_06BCE6_480E_pre_overlay.png\n",
      "Saved: /Users/ereilly/Documents/code/autoSAR_preprocessing/plotted_images/wind/S1A_IW_GRDH_1SDV_20240806T135317_20240806T135342_055093_06B68A_CCC5_pre_overlay.png\n",
      "Saved: /Users/ereilly/Documents/code/autoSAR_preprocessing/plotted_images/wind/S1A_IW_GRDH_1SDV_20240626T134456_20240626T134521_054495_06A1B9_8996_pre_overlay.png\n",
      "Saved: /Users/ereilly/Documents/code/autoSAR_preprocessing/plotted_images/wind/S1A_IW_GRDH_1SDV_20241216T135316_20241216T135341_057018_0701B0_5892_pre_overlay.png\n",
      "Saved: /Users/ereilly/Documents/code/autoSAR_preprocessing/plotted_images/wind/S1A_IW_GRDH_1SDV_20240813T134454_20240813T134519_055195_06BA35_56BE_pre_overlay.png\n",
      "Saved: /Users/ereilly/Documents/code/autoSAR_preprocessing/plotted_images/wind/S1A_IW_GRDH_1SDV_20241117T134456_20241117T134521_056595_06F0DF_6AA8_pre_overlay.png\n",
      "Saved: /Users/ereilly/Documents/code/autoSAR_preprocessing/plotted_images/wind/S1A_IW_GRDH_1SDV_20240713T015016_20240713T015045_054736_06AA18_48C2_pre_overlay.png\n",
      "Saved: /Users/ereilly/Documents/code/autoSAR_preprocessing/plotted_images/wind/S1A_IW_GRDH_1SDV_20240725T135317_20240725T135342_054918_06B074_6D24_pre_overlay.png\n",
      "Saved: /Users/ereilly/Documents/code/autoSAR_preprocessing/plotted_images/wind/S1A_IW_GRDH_1SDV_20240806T015015_20240806T015044_055086_06B638_CB9C_pre_overlay.png\n",
      "Saved: /Users/ereilly/Documents/code/autoSAR_preprocessing/plotted_images/wind/S1A_IW_GRDH_1SDV_20241105T134456_20241105T134521_056420_06E9E3_3EBC_pre_overlay.png\n",
      "Saved: /Users/ereilly/Documents/code/autoSAR_preprocessing/plotted_images/wind/S1A_IW_GRDH_1SDV_20240911T015016_20240911T015045_055611_06C9E7_3B08_pre_overlay.png\n",
      "Saved: /Users/ereilly/Documents/code/autoSAR_preprocessing/plotted_images/wind/S1A_IW_GRDH_1SDV_20240701T135318_20240701T135343_054568_06A44B_57BB_pre_overlay.png\n",
      "Saved: /Users/ereilly/Documents/code/autoSAR_preprocessing/plotted_images/wind/S1A_IW_GRDH_1SDV_20241029T135319_20241029T135344_056318_06E5E2_52F5_pre_overlay.png\n",
      "Saved: /Users/ereilly/Documents/code/autoSAR_preprocessing/plotted_images/wind/S1A_IW_GRDH_1SDV_20240607T135319_20240607T135344_054218_069828_6D52_pre_overlay.png\n",
      "Saved: /Users/ereilly/Documents/code/autoSAR_preprocessing/plotted_images/wind/S1A_IW_GRDH_1SDV_20241005T135319_20241005T135344_055968_06D804_146E_pre_overlay.png\n",
      "Saved: /Users/ereilly/Documents/code/autoSAR_preprocessing/plotted_images/wind/S1A_IW_GRDH_1SDV_20241204T015015_20241204T015044_056836_06FA75_DFE3_pre_overlay.png\n",
      "Saved: /Users/ereilly/Documents/code/autoSAR_preprocessing/plotted_images/wind/S1A_IW_GRDH_1SDV_20240930T134456_20240930T134521_055895_06D520_6A0F_pre_overlay.png\n",
      "Saved: /Users/ereilly/Documents/code/autoSAR_preprocessing/plotted_images/wind/S1A_IW_GRDH_1SDV_20240911T135318_20240911T135343_055618_06CA33_3AB0_pre_overlay.png\n",
      "Saved: /Users/ereilly/Documents/code/autoSAR_preprocessing/plotted_images/wind/S1A_IW_GRDH_1SDV_20240801T134455_20240801T134520_055020_06B3F8_8F59_pre_overlay.png\n",
      "Saved: /Users/ereilly/Documents/code/autoSAR_preprocessing/plotted_images/wind/S1A_IW_GRDH_1SDV_20240701T015016_20240701T015045_054561_06A407_78C1_pre_overlay.png\n",
      "Saved: /Users/ereilly/Documents/code/autoSAR_preprocessing/plotted_images/wind/S1A_IW_GRDH_1SDV_20240818T015015_20240818T015044_055261_06BC99_5148_pre_overlay.png\n",
      "Saved: /Users/ereilly/Documents/code/autoSAR_preprocessing/plotted_images/wind/S1A_IW_GRDH_1SDV_20241122T015016_20241122T015045_056661_06F388_00D1_pre_overlay.png\n",
      "Saved: /Users/ereilly/Documents/code/autoSAR_preprocessing/plotted_images/wind/S1A_IW_GRDH_1SDV_20240619T015017_20240619T015046_054386_069DEF_1E63_pre_overlay.png\n",
      "Saved: /Users/ereilly/Documents/code/autoSAR_preprocessing/plotted_images/wind/S1A_IW_GRDH_1SDV_20241110T015016_20241110T015045_056486_06EC81_800D_pre_overlay.png\n",
      "Saved: /Users/ereilly/Documents/code/autoSAR_preprocessing/plotted_images/wind/S1A_IW_GRDH_1SDV_20240614T134456_20240614T134521_054320_069BA3_E195_pre_overlay.png\n",
      "Saved: /Users/ereilly/Documents/code/autoSAR_preprocessing/plotted_images/wind/S1A_IW_GRDH_1SDV_20240923T135318_20240923T135343_055793_06D11E_354B_pre_overlay.png\n",
      "Saved: /Users/ereilly/Documents/code/autoSAR_preprocessing/plotted_images/wind/S1A_IW_GRDH_1SDV_20240830T135318_20240830T135343_055443_06C35B_0F4A_pre_overlay.png\n",
      "Saved: /Users/ereilly/Documents/code/autoSAR_preprocessing/plotted_images/wind/S1A_IW_GRDH_1SDV_20241122T135318_20241122T135343_056668_06F3D6_0258_pre_overlay.png\n",
      "Saved: /Users/ereilly/Documents/code/autoSAR_preprocessing/plotted_images/wind/S1A_IW_GRDH_1SDV_20241017T135319_20241017T135344_056143_06DEF0_4602_pre_overlay.png\n",
      "Saved: /Users/ereilly/Documents/code/autoSAR_preprocessing/plotted_images/wind/S1A_IW_GRDH_1SDV_20240923T015016_20240923T015045_055786_06D0CD_4C0A_pre_overlay.png\n",
      "Saved: /Users/ereilly/Documents/code/autoSAR_preprocessing/plotted_images/wind/S1A_IW_GRDH_1SDV_20240602T134457_20240602T134522_054145_069598_F5E2_pre_overlay.png\n",
      "Saved: /Users/ereilly/Documents/code/autoSAR_preprocessing/plotted_images/wind/S1A_IW_GRDH_1SDV_20241223T134453_20241223T134518_057120_0705BE_A61A_pre_overlay.png\n",
      "Saved: /Users/ereilly/Documents/code/autoSAR_preprocessing/plotted_images/wind/S1A_IW_GRDH_1SDV_20241228T135315_20241228T135340_057193_0708A1_63F7_pre_overlay.png\n",
      "Saved: /Users/ereilly/Documents/code/autoSAR_preprocessing/plotted_images/wind/S1A_IW_GRDH_1SDV_20241012T134456_20241012T134521_056070_06DC04_4FC8_pre_overlay.png\n"
     ]
    }
   ],
   "execution_count": 64
  }
 ],
 "metadata": {
  "kernelspec": {
   "display_name": "Python 3",
   "language": "python",
   "name": "python3"
  },
  "language_info": {
   "codemirror_mode": {
    "name": "ipython",
    "version": 2
   },
   "file_extension": ".py",
   "mimetype": "text/x-python",
   "name": "python",
   "nbconvert_exporter": "python",
   "pygments_lexer": "ipython2",
   "version": "2.7.6"
  }
 },
 "nbformat": 4,
 "nbformat_minor": 5
}
